{
 "cells": [
  {
   "cell_type": "code",
   "execution_count": 8,
   "id": "ab561b94",
   "metadata": {},
   "outputs": [],
   "source": [
    "import numpy as np"
   ]
  },
  {
   "cell_type": "code",
   "execution_count": 9,
   "id": "b7d4fcde",
   "metadata": {},
   "outputs": [],
   "source": [
    "import matplotlib.pyplot as plt"
   ]
  },
  {
   "cell_type": "code",
   "execution_count": 10,
   "id": "4ffebb3b",
   "metadata": {},
   "outputs": [],
   "source": [
    "def estimate_coef(x,y):\n",
    "    #number of observations/point;\n",
    "    n=np.size(x)\n",
    "    \n",
    "    #mean of x ndd y vector;\n",
    "    m_x = np.mean(x)\n",
    "    m_y = np.mean(y)\n",
    "    \n",
    "    #calculating cross-deviation :\n",
    "    ss_xy = np.sum(y*x) - n*m_y*m_x\n",
    "    ss_xx = np.sum(x*x) - n*m_x*m_x\n",
    "    \n",
    "    #calculating regression coefficients\n",
    "    \n",
    "    b_1 = ss_xy / ss_xx \n",
    "    b_0 = m_y - b_1 * m_x\n",
    "    \n",
    "    return ( b_0 , b_1 )"
   ]
  },
  {
   "cell_type": "code",
   "execution_count": 11,
   "id": "cf629baa",
   "metadata": {},
   "outputs": [],
   "source": [
    "def plot_regression_line(x,y,b):\n",
    "    \n",
    "    #plotting the actual points as scatter plot\n",
    "    plt.scatter(x,y,color=\"m\",marker = \"0\", s=30)\n",
    "    \n",
    "    #predicted responce vector\n",
    "    y_pred = b[0]+ b[1]*x\n",
    "               \n",
    "    #plotting the regression line\n",
    "    plt.plot(x,y_pred,color=\"g\")\n",
    "    \n",
    "    #putting labels \n",
    "    plt.xlabel('x')\n",
    "    plt.ylabel('y')\n",
    "    \n",
    "    #function to show plot\n",
    "    plt.show()"
   ]
  },
  {
   "cell_type": "code",
   "execution_count": 12,
   "id": "65581a50",
   "metadata": {},
   "outputs": [],
   "source": [
    "def main():\n",
    "\n",
    "    #observations/data\n",
    "    x = np.array([0,1,2,3,4,5,6,7,8,9])\n",
    "    y = np.array([1,3,2,5,7,8,8,9,10,12])\n",
    "          \n",
    "    #plotting regression line \n",
    "    plot_regression_line(x,y,b)"
   ]
  },
  {
   "cell_type": "code",
   "execution_count": null,
   "id": "78eed1d3",
   "metadata": {},
   "outputs": [],
   "source": []
  }
 ],
 "metadata": {
  "kernelspec": {
   "display_name": "Python 3",
   "language": "python",
   "name": "python3"
  },
  "language_info": {
   "codemirror_mode": {
    "name": "ipython",
    "version": 3
   },
   "file_extension": ".py",
   "mimetype": "text/x-python",
   "name": "python",
   "nbconvert_exporter": "python",
   "pygments_lexer": "ipython3",
   "version": "3.8.8"
  }
 },
 "nbformat": 4,
 "nbformat_minor": 5
}

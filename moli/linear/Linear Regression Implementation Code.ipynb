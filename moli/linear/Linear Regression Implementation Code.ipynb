{
 "cells": [
  {
   "cell_type": "code",
   "execution_count": 1,
   "id": "30e569ca",
   "metadata": {},
   "outputs": [],
   "source": [
    "import numpy as np\n",
    "import matplotlib.pyplot as plt"
   ]
  },
  {
   "cell_type": "code",
   "execution_count": 2,
   "id": "32206d71",
   "metadata": {},
   "outputs": [],
   "source": [
    "data = np.loadtxt(\"price.txt\", delimiter=\",\")"
   ]
  },
  {
   "cell_type": "code",
   "execution_count": 3,
   "id": "0aea40b4",
   "metadata": {},
   "outputs": [],
   "source": [
    "X = data[:,0]\n",
    "Y = data[:,1].reshape(X.size, 1)\n",
    "X = np.vstack((np.ones((X.size,)), X)).T"
   ]
  },
  {
   "cell_type": "code",
   "execution_count": 4,
   "id": "c6c1eea8",
   "metadata": {},
   "outputs": [
    {
     "name": "stdout",
     "output_type": "stream",
     "text": [
      "(45, 2)\n",
      "(45, 1)\n"
     ]
    }
   ],
   "source": [
    "print(X.shape)\n",
    "print(Y.shape)"
   ]
  },
  {
   "cell_type": "code",
   "execution_count": 5,
   "id": "fcff0a6b",
   "metadata": {},
   "outputs": [
    {
     "data": {
      "image/png": "[encoded data removed]",
      "text/plain": [
       "<Figure size 432x288 with 1 Axes>"
      ]
     },
     "metadata": {
      "needs_background": "light"
     },
     "output_type": "display_data"
    }
   ],
   "source": [
    "plt.scatter(X[:,1],Y)\n",
    "plt.show()"
   ]
  },
  {
   "cell_type": "code",
   "execution_count": 6,
   "id": "24bbc490",
   "metadata": {},
   "outputs": [],
   "source": [
    "def model(X,Y,learning_rate, iteration):\n",
    "    m = Y.size\n",
    "    theta = np.zeros((2,1))\n",
    "    \n",
    "    for i in range(iteration):\n",
    "        \n",
    "        y_pred = np.dot(X, theta)\n",
    "        cost = (1/(2*m))*np.sum(np.square(y_pred - Y))\n",
    "        \n",
    "        d_theta = (1/m)*np.dot(X.T, y_pred - Y)\n",
    "        theta = theta - learning_rate*d_theta\n",
    "        \n",
    "    return theta   "
   ]
  },
  {
   "cell_type": "code",
   "execution_count": 7,
   "id": "e0479d10",
   "metadata": {},
   "outputs": [],
   "source": [
    "iteration = 100\n",
    "learning_rate = 0.00000005\n",
    "theta = model(X,Y,learning_rate = learning_rate, iteration = iteration)"
   ]
  },
  {
   "cell_type": "code",
   "execution_count": 8,
   "id": "c01b110d",
   "metadata": {},
   "outputs": [
    {
     "data": {
      "text/plain": [
       "array([155746.83577767])"
      ]
     },
     "execution_count": 8,
     "metadata": {},
     "output_type": "execute_result"
    }
   ],
   "source": [
    "np.dot([1, 1567],theta)"
   ]
  },
  {
   "cell_type": "code",
   "execution_count": null,
   "id": "20e3b1e1",
   "metadata": {},
   "outputs": [],
   "source": []
  }
 ],
 "metadata": {
  "kernelspec": {
   "display_name": "Python 3",
   "language": "python",
   "name": "python3"
  },
  "language_info": {
   "codemirror_mode": {
    "name": "ipython",
    "version": 3
   },
   "file_extension": ".py",
   "mimetype": "text/x-python",
   "name": "python",
   "nbconvert_exporter": "python",
   "pygments_lexer": "ipython3",
   "version": "3.8.8"
  }
 },
 "nbformat": 4,
 "nbformat_minor": 5
}

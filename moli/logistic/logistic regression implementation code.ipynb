{
 "cells": [
  {
   "cell_type": "code",
   "execution_count": 1,
   "id": "ae85f959",
   "metadata": {},
   "outputs": [],
   "source": [
    "import numpy as np\n",
    "import pandas as pd\n",
    "import matplotlib.pyplot as plt"
   ]
  },
  {
   "cell_type": "code",
   "execution_count": 2,
   "id": "9c6b73cc",
   "metadata": {},
   "outputs": [],
   "source": [
    "X_train = pd.read_csv(\"train_X.csv\")\n",
    "Y_train = pd.read_csv(\"train_Y.csv\")\n",
    "X_test = pd.read_csv(\"test_X.csv\")\n",
    "Y_test = pd.read_csv(\"test_Y.csv\")"
   ]
  },
  {
   "cell_type": "code",
   "execution_count": 3,
   "id": "c17c8a4d",
   "metadata": {},
   "outputs": [
    {
     "data": {
      "text/html": [
       "<div>\n",
       "<style scoped>\n",
       "    .dataframe tbody tr th:only-of-type {\n",
       "        vertical-align: middle;\n",
       "    }\n",
       "\n",
       "    .dataframe tbody tr th {\n",
       "        vertical-align: top;\n",
       "    }\n",
       "\n",
       "    .dataframe thead th {\n",
       "        text-align: right;\n",
       "    }\n",
       "</style>\n",
       "<table border=\"1\" class=\"dataframe\">\n",
       "  <thead>\n",
       "    <tr style=\"text-align: right;\">\n",
       "      <th></th>\n",
       "      <th>Id</th>\n",
       "      <th>Pclass</th>\n",
       "      <th>Sex</th>\n",
       "      <th>Age</th>\n",
       "      <th>SibSp</th>\n",
       "      <th>Parch</th>\n",
       "      <th>Fare</th>\n",
       "      <th>Embarked</th>\n",
       "    </tr>\n",
       "  </thead>\n",
       "  <tbody>\n",
       "    <tr>\n",
       "      <th>0</th>\n",
       "      <td>0</td>\n",
       "      <td>3</td>\n",
       "      <td>0</td>\n",
       "      <td>22.0</td>\n",
       "      <td>1</td>\n",
       "      <td>0</td>\n",
       "      <td>7.2500</td>\n",
       "      <td>1</td>\n",
       "    </tr>\n",
       "    <tr>\n",
       "      <th>1</th>\n",
       "      <td>1</td>\n",
       "      <td>1</td>\n",
       "      <td>1</td>\n",
       "      <td>38.0</td>\n",
       "      <td>1</td>\n",
       "      <td>0</td>\n",
       "      <td>71.2833</td>\n",
       "      <td>0</td>\n",
       "    </tr>\n",
       "    <tr>\n",
       "      <th>2</th>\n",
       "      <td>2</td>\n",
       "      <td>3</td>\n",
       "      <td>1</td>\n",
       "      <td>26.0</td>\n",
       "      <td>0</td>\n",
       "      <td>0</td>\n",
       "      <td>7.9250</td>\n",
       "      <td>1</td>\n",
       "    </tr>\n",
       "    <tr>\n",
       "      <th>3</th>\n",
       "      <td>3</td>\n",
       "      <td>1</td>\n",
       "      <td>1</td>\n",
       "      <td>35.0</td>\n",
       "      <td>1</td>\n",
       "      <td>0</td>\n",
       "      <td>53.1000</td>\n",
       "      <td>1</td>\n",
       "    </tr>\n",
       "    <tr>\n",
       "      <th>4</th>\n",
       "      <td>4</td>\n",
       "      <td>3</td>\n",
       "      <td>0</td>\n",
       "      <td>35.0</td>\n",
       "      <td>0</td>\n",
       "      <td>0</td>\n",
       "      <td>8.0500</td>\n",
       "      <td>1</td>\n",
       "    </tr>\n",
       "  </tbody>\n",
       "</table>\n",
       "</div>"
      ],
      "text/plain": [
       "   Id  Pclass  Sex   Age  SibSp  Parch     Fare  Embarked\n",
       "0   0       3    0  22.0      1      0   7.2500         1\n",
       "1   1       1    1  38.0      1      0  71.2833         0\n",
       "2   2       3    1  26.0      0      0   7.9250         1\n",
       "3   3       1    1  35.0      1      0  53.1000         1\n",
       "4   4       3    0  35.0      0      0   8.0500         1"
      ]
     },
     "execution_count": 3,
     "metadata": {},
     "output_type": "execute_result"
    }
   ],
   "source": [
    "X_train.head()"
   ]
  },
  {
   "cell_type": "code",
   "execution_count": 4,
   "id": "ff24ca17",
   "metadata": {},
   "outputs": [],
   "source": [
    "X_train = X_train.drop(\"Id\", axis = 1)\n",
    "Y_train = Y_train.drop(\"Id\", axis = 1)\n",
    "X_test = X_test.drop(\"Id\", axis = 1)\n",
    "Y_test = Y_test.drop(\"Id\", axis = 1)"
   ]
  },
  {
   "cell_type": "code",
   "execution_count": 5,
   "id": "f82c113e",
   "metadata": {},
   "outputs": [],
   "source": [
    "X_train = X_train.values\n",
    "Y_train = Y_train.values\n",
    "X_test = X_test.values\n",
    "Y_test = Y_test.values"
   ]
  },
  {
   "cell_type": "code",
   "execution_count": 6,
   "id": "18c4bff4",
   "metadata": {},
   "outputs": [
    {
     "name": "stdout",
     "output_type": "stream",
     "text": [
      "Shape of X_train :  (891, 7)\n",
      "Shape of Y_train :  (891, 1)\n",
      "Shape of X_test :  (418, 7)\n",
      "Shape of Y_test :  (418, 1)\n"
     ]
    }
   ],
   "source": [
    "print(\"Shape of X_train : \", X_train.shape)\n",
    "print(\"Shape of Y_train : \", Y_train.shape)\n",
    "print(\"Shape of X_test : \", X_test.shape)\n",
    "print(\"Shape of Y_test : \", Y_test.shape)"
   ]
  },
  {
   "cell_type": "code",
   "execution_count": 7,
   "id": "0c99b87d",
   "metadata": {},
   "outputs": [],
   "source": [
    "def sigmoid(x):\n",
    "    return 1/(1 + np.exp(-x))"
   ]
  },
  {
   "cell_type": "code",
   "execution_count": 8,
   "id": "b0e2f008",
   "metadata": {},
   "outputs": [],
   "source": [
    "def model(X, Y, learning_rate, iterations):\n",
    "    \n",
    "    m = X_train.shape[1]\n",
    "    n = X_train.shape[0]\n",
    "    \n",
    "    W = np.zeros((n,1))\n",
    "    B = 0\n",
    "    \n",
    "    cost_list = []\n",
    "    \n",
    "    for i in range(iterations):\n",
    "        \n",
    "        Z = np.dot(W.T, X) + B\n",
    "        A = sigmoid(Z)\n",
    "        \n",
    "        cost = -(1/m)*np.sum( Y*np.log(A) + (1-Y)*np.log(1-A))\n",
    "        \n",
    "        dW = (1/m)*np.dot(A-Y, X.T)\n",
    "        dB = (1/m)*np.sum(A - Y)\n",
    "        \n",
    "        W = W - learning_rate*dW.T\n",
    "        B = B - learning_rate*dB\n",
    "        \n",
    "        cost_list.append(cost)\n",
    "        \n",
    "        if(i%(iterations/10) == 0):\n",
    "            print(\"cost after \", i, \"iteration is : \", cost)\n",
    "            \n",
    "    return W, B, cost_list"
   ]
  },
  {
   "cell_type": "code",
   "execution_count": null,
   "id": "45c1e2bb",
   "metadata": {},
   "outputs": [],
   "source": [
    "iterations = 100000\n",
    "learning_rate = 0.0015\n",
    "W, B, cost_list = model(X_train, Y_train, learning_rate = learning_rate, iterations = iterations)"
   ]
  },
  {
   "cell_type": "code",
   "execution_count": null,
   "id": "d2e4456c",
   "metadata": {},
   "outputs": [],
   "source": [
    "plt.plot(np.arange(iterations), cost_list)\n",
    "plt.show()"
   ]
  },
  {
   "cell_type": "code",
   "execution_count": null,
   "id": "1564026f",
   "metadata": {},
   "outputs": [],
   "source": [
    "def accuracy(X, Y, W, B):\n",
    "    \n",
    "    Z = np.dot(W.T, X) + B\n",
    "    A = sigmoid(Z)\n",
    "    \n",
    "    A = A > 0.5\n",
    "    \n",
    "    A = np.array(A, dtype = 'int64')\n",
    "    \n",
    "    acc = (1 - np.sum(np.absolute(A - Y))/Y.shape[1])*100\n",
    "    \n",
    "    print(\"Accuracy of the model is : \", round(acc, 2), \"%\")"
   ]
  },
  {
   "cell_type": "code",
   "execution_count": null,
   "id": "f05e5eef",
   "metadata": {},
   "outputs": [],
   "source": [
    "accuracy(X_test, Y_test, W, B)"
   ]
  },
  {
   "cell_type": "code",
   "execution_count": null,
   "id": "48e7ca84",
   "metadata": {},
   "outputs": [],
   "source": []
  }
 ],
 "metadata": {
  "kernelspec": {
   "display_name": "Python 3",
   "language": "python",
   "name": "python3"
  },
  "language_info": {
   "codemirror_mode": {
    "name": "ipython",
    "version": 3
   },
   "file_extension": ".py",
   "mimetype": "text/x-python",
   "name": "python",
   "nbconvert_exporter": "python",
   "pygments_lexer": "ipython3",
   "version": "3.8.8"
  }
 },
 "nbformat": 4,
 "nbformat_minor": 5
}

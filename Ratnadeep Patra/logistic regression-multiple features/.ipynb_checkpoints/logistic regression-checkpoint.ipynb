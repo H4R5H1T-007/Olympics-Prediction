{
 "cells": [
  {
   "cell_type": "code",
   "execution_count": 1,
   "id": "2a810579",
   "metadata": {},
   "outputs": [
    {
     "name": "stdout",
     "output_type": "stream",
     "text": [
      "imported\n"
     ]
    }
   ],
   "source": [
    "import pandas as pd\n",
    "import numpy as np\n",
    "print(\"imported\")\n",
    "data = pd.read_csv('logistic regression.csv')\n",
    "# print(data)"
   ]
  },
  {
   "cell_type": "code",
   "execution_count": 4,
   "id": "1a592f05",
   "metadata": {},
   "outputs": [
    {
     "name": "stdout",
     "output_type": "stream",
     "text": [
      "[[1.         1.         1.         ... 1.         1.         1.        ]\n",
      " [0.27345609 0.473882   0.32356257 ... 0.48014531 0.34861581 0.34861581]\n",
      " [0.01415106 0.13913574 0.01546857 ... 0.01415106 0.01571255 0.0436405 ]\n",
      " [0.         1.         1.         ... 0.         0.         0.        ]]\n",
      "[0. 1. 1. ... 0. 0. 0.]\n"
     ]
    }
   ],
   "source": [
    "o = np.array([0,0,0,0])\n",
    "o = o.astype('float64')\n",
    "\n",
    "x = np.array(data[data.columns[1]])\n",
    "x = x.astype('float64')\n",
    "x = normalize(x)\n",
    "\n",
    "one = np.ones([1,1309])\n",
    "x = np.vstack((one,x))\n",
    "\n",
    "a = np.array(data[data.columns[2]])\n",
    "a = a.astype('float64')\n",
    "a = normalize(a)\n",
    "\n",
    "x = np.vstack((x,a))\n",
    "\n",
    "a = np.array(data[data.columns[3]])\n",
    "a = a.astype('float64')\n",
    "a = normalize(a)\n",
    "\n",
    "x = np.vstack((x,a))\n",
    "x = x.astype('float64')\n",
    "print(x)\n",
    "\n",
    "y = np.array(data[data.columns[-1]])\n",
    "y = y.astype('float64')\n",
    "print(y)"
   ]
  },
  {
   "cell_type": "code",
   "execution_count": 5,
   "id": "e0488fdd",
   "metadata": {},
   "outputs": [
    {
     "name": "stdout",
     "output_type": "stream",
     "text": [
      "[-0.01416858 -0.06985971  0.10135425  0.0690683 ]\n"
     ]
    }
   ],
   "source": [
    "o = np.array([0,0,0,0])\n",
    "o = o.astype('float64')\n",
    "for i in range (0,np.shape(x)[1]):\n",
    "    h = np.matmul(o,x[:,i])\n",
    "    o += 0.019*(y[i]-h)*np.transpose(x[:,i])\n",
    "print(o)"
   ]
  },
  {
   "cell_type": "code",
   "execution_count": 2,
   "id": "b7e0b136",
   "metadata": {},
   "outputs": [],
   "source": [
    "def normalize(x):\n",
    "    x_min = np.min(x)\n",
    "    x_max = np.max(x)\n",
    "    x -= x_min\n",
    "    x /= (x_max-x_min)\n",
    "    return x"
   ]
  },
  {
   "cell_type": "code",
   "execution_count": 3,
   "id": "75cf4df8",
   "metadata": {},
   "outputs": [],
   "source": [
    "def sigmoid(x):\n",
    "    sig = 1 / (1 + np.exp(-x))\n",
    "    return sig"
   ]
  },
  {
   "cell_type": "code",
   "execution_count": 6,
   "id": "2b6d524b",
   "metadata": {},
   "outputs": [
    {
     "name": "stdout",
     "output_type": "stream",
     "text": [
      "[ 0.  0.  0.  0.  0.  0.  0.  0.  0.  0.  0. -1.  1.  0.  0.  0.  1.  0.\n",
      "  0.  0.  0.  0.  0.  0.  0.  0. -1.  0.  0.  0.  0.  0.  0.  0. -1.  0.\n",
      "  0.  0. -1.  0.  0.  0. -1. -1. -1.  0. -1.  0.  0.  0.  0.  0.  0.  0.\n",
      "  0.  0.  0.  0.  0.  1.  0.  1.  0.  0.  1.  0.  0.  1.  0.  0.  1.  0.\n",
      "  0.  0.  0.  0.  1.  0.  0.  0.  1.  1.  0.  1.  0.  0.  0.  1.]\n"
     ]
    }
   ],
   "source": [
    "check = np.matmul(o,x)\n",
    "# print(check)\n",
    "check = sigmoid(check)\n",
    "for i in range (0,1309):\n",
    "    if check[i]>0.5:\n",
    "        check[i]=1\n",
    "    else:\n",
    "        check[i]=0\n",
    "print((check-y)[0:1309:15])"
   ]
  }
 ],
 "metadata": {
  "kernelspec": {
   "display_name": "Python 3",
   "language": "python",
   "name": "python3"
  },
  "language_info": {
   "codemirror_mode": {
    "name": "ipython",
    "version": 3
   },
   "file_extension": ".py",
   "mimetype": "text/x-python",
   "name": "python",
   "nbconvert_exporter": "python",
   "pygments_lexer": "ipython3",
   "version": "3.8.8"
  }
 },
 "nbformat": 4,
 "nbformat_minor": 5
}

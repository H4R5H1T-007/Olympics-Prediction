{
 "cells": [
  {
   "cell_type": "code",
   "execution_count": 3,
   "id": "2a810579",
   "metadata": {},
   "outputs": [
    {
     "name": "stdout",
     "output_type": "stream",
     "text": [
      "imported\n",
      "      Passengerid   Age      Fare  Sex  sibsp  zero  zero.1  zero.2  zero.3  \\\n",
      "0               1  22.0    7.2500    0      1     0       0       0       0   \n",
      "1               2  38.0   71.2833    1      1     0       0       0       0   \n",
      "2               3  26.0    7.9250    1      0     0       0       0       0   \n",
      "3               4  35.0   53.1000    1      1     0       0       0       0   \n",
      "4               5  35.0    8.0500    0      0     0       0       0       0   \n",
      "...           ...   ...       ...  ...    ...   ...     ...     ...     ...   \n",
      "1304         1305  28.0    8.0500    0      0     0       0       0       0   \n",
      "1305         1306  39.0  108.9000    1      0     0       0       0       0   \n",
      "1306         1307  38.5    7.2500    0      0     0       0       0       0   \n",
      "1307         1308  28.0    8.0500    0      0     0       0       0       0   \n",
      "1308         1309  28.0   22.3583    0      1     0       0       0       0   \n",
      "\n",
      "      zero.4  ...  zero.12  zero.13  zero.14  Pclass  zero.15  zero.16  \\\n",
      "0          0  ...        0        0        0       3        0        0   \n",
      "1          0  ...        0        0        0       1        0        0   \n",
      "2          0  ...        0        0        0       3        0        0   \n",
      "3          0  ...        0        0        0       1        0        0   \n",
      "4          0  ...        0        0        0       3        0        0   \n",
      "...      ...  ...      ...      ...      ...     ...      ...      ...   \n",
      "1304       0  ...        0        0        0       3        0        0   \n",
      "1305       0  ...        0        0        0       1        0        0   \n",
      "1306       0  ...        0        0        0       3        0        0   \n",
      "1307       0  ...        0        0        0       3        0        0   \n",
      "1308       0  ...        0        0        0       3        0        0   \n",
      "\n",
      "      Embarked  zero.17  zero.18  survived  \n",
      "0          2.0        0        0         0  \n",
      "1          0.0        0        0         1  \n",
      "2          2.0        0        0         1  \n",
      "3          2.0        0        0         1  \n",
      "4          2.0        0        0         0  \n",
      "...        ...      ...      ...       ...  \n",
      "1304       2.0        0        0         0  \n",
      "1305       0.0        0        0         0  \n",
      "1306       2.0        0        0         0  \n",
      "1307       2.0        0        0         0  \n",
      "1308       0.0        0        0         0  \n",
      "\n",
      "[1309 rows x 28 columns]\n"
     ]
    }
   ],
   "source": [
    "import pandas as pd\n",
    "import numpy as np\n",
    "print(\"imported\")\n",
    "data = pd.read_csv('logistic regression.csv')\n",
    "print(data)"
   ]
  },
  {
   "cell_type": "code",
   "execution_count": 4,
   "id": "1a592f05",
   "metadata": {},
   "outputs": [
    {
     "name": "stdout",
     "output_type": "stream",
     "text": [
      "[[1.         1.         1.         ... 1.         1.         1.        ]\n",
      " [0.27345609 0.473882   0.32356257 ... 0.48014531 0.34861581 0.34861581]\n",
      " [0.01415106 0.13913574 0.01546857 ... 0.01415106 0.01571255 0.0436405 ]\n",
      " [0.         1.         1.         ... 0.         0.         0.        ]]\n",
      "[0. 1. 1. ... 0. 0. 0.]\n"
     ]
    }
   ],
   "source": [
    "o = np.array([0,0,0,0])\n",
    "o = o.astype('float64')\n",
    "\n",
    "x = np.array(data[data.columns[1]])\n",
    "x = x.astype('float64')\n",
    "x = normalize(x)\n",
    "\n",
    "one = np.ones([1,1309])\n",
    "x = np.vstack((one,x))\n",
    "\n",
    "a = np.array(data[data.columns[2]])\n",
    "a = a.astype('float64')\n",
    "a = normalize(a)\n",
    "\n",
    "x = np.vstack((x,a))\n",
    "\n",
    "a = np.array(data[data.columns[3]])\n",
    "a = a.astype('float64')\n",
    "a = normalize(a)\n",
    "\n",
    "x = np.vstack((x,a))\n",
    "x = x.astype('float64')\n",
    "print(x)\n",
    "\n",
    "y = np.array(data[data.columns[-1]])\n",
    "y = y.astype('float64')\n",
    "print(y)"
   ]
  },
  {
   "cell_type": "code",
   "execution_count": 5,
   "id": "e0488fdd",
   "metadata": {},
   "outputs": [
    {
     "name": "stdout",
     "output_type": "stream",
     "text": [
      "[-0.01416858 -0.06985971  0.10135425  0.0690683 ]\n"
     ]
    }
   ],
   "source": [
    "o = np.array([0,0,0,0])\n",
    "o = o.astype('float64')\n",
    "for i in range (0,np.shape(x)[1]):\n",
    "    h = np.matmul(o,x[:,i])\n",
    "    o += 0.019*(y[i]-h)*np.transpose(x[:,i])\n",
    "print(o)"
   ]
  },
  {
   "cell_type": "code",
   "execution_count": 6,
   "id": "b7e0b136",
   "metadata": {},
   "outputs": [],
   "source": [
    "def normalize(x):\n",
    "    x_min = np.min(x)\n",
    "    x_max = np.max(x)\n",
    "    x -= x_min\n",
    "    x /= (x_max-x_min)\n",
    "    return x"
   ]
  },
  {
   "cell_type": "code",
   "execution_count": 7,
   "id": "75cf4df8",
   "metadata": {},
   "outputs": [],
   "source": [
    "def sigmoid(x):\n",
    "    sig = 1 / (1 + np.exp(-x))\n",
    "    return sig"
   ]
  },
  {
   "cell_type": "code",
   "execution_count": 8,
   "id": "2b6d524b",
   "metadata": {},
   "outputs": [
    {
     "name": "stdout",
     "output_type": "stream",
     "text": [
      "[ 0.  0.  0.  0.  0.  0.  0.  0.  0.  0.  0. -1.  1.  0.  0.  0.  1.  0.\n",
      "  0.  0.  0.  0.  0.  0.  0.  0. -1.  0.  0.  0.  0.  0.  0.  0. -1.  0.\n",
      "  0.  0. -1.  0.  0.  0. -1. -1. -1.  0. -1.  0.  0.  0.  0.  0.  0.  0.\n",
      "  0.  0.  0.  0.  0.  1.  0.  1.  0.  0.  1.  0.  0.  1.  0.  0.  1.  0.\n",
      "  0.  0.  0.  0.  1.  0.  0.  0.  1.  1.  0.  1.  0.  0.  0.  1.]\n"
     ]
    }
   ],
   "source": [
    "check = np.matmul(o,x)\n",
    "# print(check)\n",
    "check = sigmoid(check)\n",
    "for i in range (0,1309):\n",
    "    if check[i]>0.5:\n",
    "        check[i]=1\n",
    "    else:\n",
    "        check[i]=0\n",
    "print((check-y)[0:1309:15])"
   ]
  }
 ],
 "metadata": {
  "kernelspec": {
   "display_name": "Python 3",
   "language": "python",
   "name": "python3"
  },
  "language_info": {
   "codemirror_mode": {
    "name": "ipython",
    "version": 3
   },
   "file_extension": ".py",
   "mimetype": "text/x-python",
   "name": "python",
   "nbconvert_exporter": "python",
   "pygments_lexer": "ipython3",
   "version": "3.8.8"
  }
 },
 "nbformat": 4,
 "nbformat_minor": 5
}

{
 "cells": [
  {
   "cell_type": "code",
   "execution_count": 1,
   "id": "2475f611",
   "metadata": {},
   "outputs": [],
   "source": [
    "import pandas as pd\n",
    "import numpy as np"
   ]
  },
  {
   "cell_type": "code",
   "execution_count": 2,
   "id": "3e65c802",
   "metadata": {},
   "outputs": [],
   "source": [
    "data = pd.read_excel('Sample-data-sets-for-linear-regression1.xlsx')\n",
    "data = data[data.columns[0:-2]]\n",
    "# print(data)"
   ]
  },
  {
   "cell_type": "code",
   "execution_count": 3,
   "id": "9bba12a2",
   "metadata": {},
   "outputs": [],
   "source": [
    "def normalize(x):\n",
    "    x_min = np.min(x)\n",
    "    x_max = np.max(x)\n",
    "    x -= x_min\n",
    "    x /= (x_max-x_min)\n",
    "    return x"
   ]
  },
  {
   "cell_type": "code",
   "execution_count": 4,
   "id": "2066ef12",
   "metadata": {},
   "outputs": [],
   "source": [
    "o = np.array([0,0,0,0,0])\n",
    "o = o.astype('float64')"
   ]
  },
  {
   "cell_type": "code",
   "execution_count": 5,
   "id": "d6854b84",
   "metadata": {},
   "outputs": [
    {
     "name": "stdout",
     "output_type": "stream",
     "text": [
      "[[1.         1.         1.         1.         1.         1.\n",
      "  1.         1.         1.         1.         1.         1.\n",
      "  1.         1.         1.         1.         1.         1.\n",
      "  1.         1.         1.         1.         1.         1.\n",
      "  1.         1.         1.        ]\n",
      " [0.         0.         0.         0.11494253 0.11494253 0.11494253\n",
      "  0.11494253 0.17241379 0.17241379 0.17241379 0.17241379 0.28735632\n",
      "  0.28735632 0.28735632 0.28735632 0.28735632 0.57471264 1.\n",
      "  0.68965517 0.68965517 0.68965517 0.74712644 0.81609195 0.95402299\n",
      "  0.82758621 0.71264368 0.55172414]\n",
      " [1.         0.95238095 0.9047619  0.8952381  0.76190476 0.71428571\n",
      "  0.64285714 0.64285714 0.61904762 0.54761905 0.57142857 0.52380952\n",
      "  0.5        0.5        0.47619048 0.19047619 0.23809524 0.21428571\n",
      "  0.19047619 0.14285714 0.11904762 0.07142857 0.         0.02380952\n",
      "  0.         0.04761905 0.0952381 ]\n",
      " [0.         0.03846154 0.05769231 0.06730769 0.07211538 0.075\n",
      "  0.23076923 0.26923077 0.28846154 0.32692308 0.36826923 0.45865385\n",
      "  0.53173077 0.55769231 0.57692308 0.57980769 0.65865385 0.69230769\n",
      "  0.71384615 0.76596154 0.78942308 0.83346154 0.88461538 0.90384615\n",
      "  0.94230769 0.98076923 1.        ]\n",
      " [0.         0.         0.06666667 0.06666667 0.06666667 0.13333333\n",
      "  0.16666667 0.16666667 0.16666667 0.2        0.2        0.2\n",
      "  0.23333333 0.33333333 0.36666667 0.36666667 0.36666667 0.4\n",
      "  0.5        0.53333333 0.66666667 0.7        0.76666667 0.83333333\n",
      "  0.83333333 0.93333333 1.        ]]\n"
     ]
    }
   ],
   "source": [
    "x = np.array(data[data.columns[2]])\n",
    "x = x.astype('float64')\n",
    "x = normalize(x)\n",
    "\n",
    "a = np.array(data[data.columns[3]])\n",
    "a = a.astype('float64')\n",
    "a = normalize(a)\n",
    "\n",
    "one = np.ones([1,27])\n",
    "x = np.vstack((x,a))\n",
    "x = np.vstack((one,x))\n",
    "\n",
    "a = np.array(data[data.columns[4]])\n",
    "a = a.astype('float64')\n",
    "a = normalize(a)\n",
    "x = np.vstack((x,a))\n",
    "\n",
    "a = np.array(data[data.columns[5]])\n",
    "a = a.astype('float64')\n",
    "a = normalize(a)\n",
    "x = np.vstack((x,a))\n",
    "\n",
    "x = x.astype('float64')\n",
    "\n",
    "print(x)"
   ]
  },
  {
   "cell_type": "code",
   "execution_count": 6,
   "id": "2a21e77e",
   "metadata": {},
   "outputs": [
    {
     "name": "stdout",
     "output_type": "stream",
     "text": [
      "[1.         0.97903124 0.98951562 0.81128119 0.80079681 0.82176557\n",
      " 0.8532187  0.77982806 0.76934368 0.76305305 0.74837492 0.62256238\n",
      " 0.60159363 0.60159363 0.59110925 0.57014049 0.43384357 0.\n",
      " 0.41287482 0.45481233 0.47578109 0.26609352 0.13818411 0.10736003\n",
      " 0.13608723 0.47158733 0.48626546]\n"
     ]
    }
   ],
   "source": [
    "y = np.array(data[data.columns[1]])\n",
    "y = y.astype('float64')\n",
    "y = normalize(y)\n",
    "print(y)"
   ]
  },
  {
   "cell_type": "code",
   "execution_count": 7,
   "id": "04c91981",
   "metadata": {},
   "outputs": [
    {
     "name": "stdout",
     "output_type": "stream",
     "text": [
      "[ 0.43620144 -0.06154069  0.42605595  0.00632233  0.03723186]\n"
     ]
    }
   ],
   "source": [
    "o = np.array([0,0,0,0,0])\n",
    "o = o.astype('float64')\n",
    "for i in range (0,np.shape(x)[1]):\n",
    "    h = np.matmul(o,x[:,i])\n",
    "    o -= 0.3*(h-y[i])*np.transpose(x[:,i])\n",
    "print(o)"
   ]
  },
  {
   "cell_type": "code",
   "execution_count": 8,
   "id": "0951c90d",
   "metadata": {},
   "outputs": [
    {
     "name": "stdout",
     "output_type": "stream",
     "text": [
      "[0.86225738 0.84221217 0.8245275  0.81345698 0.75667991 0.73889189\n",
      " 0.71068521 0.70739156 0.69736895 0.66842061 0.67882621 0.65203563\n",
      " 0.64359452 0.64748184 0.6387003  0.51698826 0.52009103 0.4852282\n",
      " 0.4980422  0.47932437 0.47429276 0.45198705 0.42011584 0.42437536\n",
      " 0.42225535 0.45358372 0.4863789 ]\n",
      "[1.         0.97903124 0.98951562 0.81128119 0.80079681 0.82176557\n",
      " 0.8532187  0.77982806 0.76934368 0.76305305 0.74837492 0.62256238\n",
      " 0.60159363 0.60159363 0.59110925 0.57014049 0.43384357 0.\n",
      " 0.41287482 0.45481233 0.47578109 0.26609352 0.13818411 0.10736003\n",
      " 0.13608723 0.47158733 0.48626546]\n"
     ]
    }
   ],
   "source": [
    "check = np.matmul(o,x)\n",
    "print(check)\n",
    "print(y)"
   ]
  }
 ],
 "metadata": {
  "kernelspec": {
   "display_name": "Python 3",
   "language": "python",
   "name": "python3"
  },
  "language_info": {
   "codemirror_mode": {
    "name": "ipython",
    "version": 3
   },
   "file_extension": ".py",
   "mimetype": "text/x-python",
   "name": "python",
   "nbconvert_exporter": "python",
   "pygments_lexer": "ipython3",
   "version": "3.8.8"
  }
 },
 "nbformat": 4,
 "nbformat_minor": 5
}

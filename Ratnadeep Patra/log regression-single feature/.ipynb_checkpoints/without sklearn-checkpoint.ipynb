{
 "cells": [
  {
   "cell_type": "code",
   "execution_count": 1,
   "id": "b9b186e5",
   "metadata": {},
   "outputs": [
    {
     "name": "stdout",
     "output_type": "stream",
     "text": [
      "[0. 1.]\n",
      "[0. 0. 0. 0. 0. 0. 0. 0. 0. 0. 0. 0. 0. 0. 0. 0. 0. 0. 0. 0. 0. 0. 0. 0.\n",
      " 0. 0. 0.]\n"
     ]
    }
   ],
   "source": [
    "import pandas as pd\n",
    "import numpy as np\n",
    "data = pd.read_excel('insurance data.xlsx')\n",
    "# print(data)\n",
    "\n",
    "def normalize(x):\n",
    "    x_min = np.min(x)\n",
    "    x_max = np.max(x)\n",
    "    x -= x_min\n",
    "    x /= (x_max-x_min)\n",
    "    return x\n",
    "\n",
    "def sigmoid(x):\n",
    "    sig = 1 / (1 + np.exp(-x))\n",
    "    return sig\n",
    "\n",
    "x = np.array(data[data.columns[1]])\n",
    "x = x.astype('float64')\n",
    "x = normalize(x)\n",
    "one = np.ones([1,27])\n",
    "x = np.vstack((one,x))\n",
    "\n",
    "y = np.array(data[data.columns[-1]])\n",
    "y = y.astype('float64')\n",
    "\n",
    "o = np.array([0,0])\n",
    "o = o.astype('float64')\n",
    "for i in range (0,np.shape(x)[1]):\n",
    "    h = np.matmul(o,x[:,i])\n",
    "    o += 1*(y[i]-h)*np.transpose(x[:,i])\n",
    "print(o)\n",
    "\n",
    "check = np.matmul(o,x)\n",
    "# print(check)\n",
    "check = sigmoid(check)\n",
    "for i in range (0,27):\n",
    "    if check[i]>0.5:\n",
    "        check[i]=1\n",
    "    else:\n",
    "        check[i]=0\n",
    "print(check-y)"
   ]
  },
  {
   "cell_type": "code",
   "execution_count": null,
   "id": "4d00774e",
   "metadata": {},
   "outputs": [],
   "source": []
  }
 ],
 "metadata": {
  "kernelspec": {
   "display_name": "Python 3",
   "language": "python",
   "name": "python3"
  },
  "language_info": {
   "codemirror_mode": {
    "name": "ipython",
    "version": 3
   },
   "file_extension": ".py",
   "mimetype": "text/x-python",
   "name": "python",
   "nbconvert_exporter": "python",
   "pygments_lexer": "ipython3",
   "version": "3.8.8"
  }
 },
 "nbformat": 4,
 "nbformat_minor": 5
}

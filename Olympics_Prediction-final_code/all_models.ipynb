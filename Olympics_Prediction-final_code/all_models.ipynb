{
 "cells": [
  {
   "cell_type": "code",
   "execution_count": 1,
   "metadata": {},
   "outputs": [
    {
     "name": "stdout",
     "output_type": "stream",
     "text": [
      "please enter the name of the event-hockey\n",
      "\n",
      "Enter the numbers : 68310 331449281 0 8.31 0.920 77.3 279.04 159.68 1460.07 1788.21 1 96\n",
      "[3]\n"
     ]
    }
   ],
   "source": [
    "import pickle\n",
    "event=input(\"please enter the name of the event-\")\n",
    "\n",
    "n =12\n",
    "a = list(map(float,input(\"\\nEnter the numbers : \").strip().split()))[:n]\n",
    "\n",
    "if event==\"hockey\":\n",
    "    model = pickle.load(open(\"hockey.sav\", 'rb'))\n",
    "    print(model.predict([a]))\n",
    "if event==\"football\":\n",
    "    model = pickle.load(open(\"football.sav\", 'rb'))\n",
    "    print(model.predict([a]))\n",
    "if event==\"swimming\":\n",
    "    model = pickle.load(open(\"swimming.sav\", 'rb'))\n",
    "    print(model.predict([a]))\n",
    "if event==\"wrestling\":\n",
    "    model = pickle.load(open(\"wrestling.sav\", 'rb'))\n",
    "    print(model.predict([a]))\n",
    "if event==\"gymnastics\":\n",
    "    model = pickle.load(open(\"gymnastics.sav\", 'rb'))\n",
    "    print(model.predict([a]))\n",
    "if event==\"badminton\":\n",
    "    model = pickle.load(open(\"badminton.sav\", 'rb'))\n",
    "    print(model.predict([a]))\n",
    "if event==\"basketball\":\n",
    "    model = pickle.load(open(\"basketball.sav\", 'rb'))\n",
    "    print(model.predict([a]))\n",
    "if event==\"Weightlifting\":\n",
    "    model = pickle.load(open(\"Weightlifting.sav\", 'rb'))\n",
    "    print(model.predict([a]))\n",
    "if event==\"cycling\":\n",
    "    model = pickle.load(open(\"cycling.sav\", 'rb'))\n",
    "    print(model.predict([a]))\n",
    "if event==\"shooting\":\n",
    "    model = pickle.load(open(\"shooting.sav\", 'rb'))\n",
    "    print(model.predict([a]))   "
   ]
  },
  {
   "cell_type": "code",
   "execution_count": null,
   "metadata": {},
   "outputs": [],
   "source": []
  }
 ],
 "metadata": {
  "kernelspec": {
   "display_name": "Python 3",
   "language": "python",
   "name": "python3"
  },
  "language_info": {
   "codemirror_mode": {
    "name": "ipython",
    "version": 3
   },
   "file_extension": ".py",
   "mimetype": "text/x-python",
   "name": "python",
   "nbconvert_exporter": "python",
   "pygments_lexer": "ipython3",
   "version": "3.8.8"
  }
 },
 "nbformat": 4,
 "nbformat_minor": 4
}

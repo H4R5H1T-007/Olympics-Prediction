{
 "cells": [
  {
   "cell_type": "code",
   "execution_count": 378,
   "id": "62147a84",
   "metadata": {},
   "outputs": [],
   "source": [
    "import numpy as np\n",
    "import pandas as pd\n",
    "import pickle"
   ]
  },
  {
   "cell_type": "code",
   "execution_count": 379,
   "id": "470193dc",
   "metadata": {
    "scrolled": true
   },
   "outputs": [
    {
     "name": "stdout",
     "output_type": "stream",
     "text": [
      "   Year Team          Event    GDP  Population  Host country  \\\n",
      "0  1992  aus  Weightlifting  18570    17402173             0   \n",
      "1  1992  aus         hockey  18570    17402173             0   \n",
      "2  1992  aus     basketball  18570    17402173             0   \n",
      "3  1992  aus        cycling  18570    17402173             0   \n",
      "4  1992  aus       football  18570    17402173             0   \n",
      "\n",
      "   Unemployment Rate (%)  Human development index(HDI)  Life expectancy  \\\n",
      "0                  10.73                          0.87         77.37805   \n",
      "1                  10.73                          0.87         77.37805   \n",
      "2                  10.73                          0.87         77.37805   \n",
      "3                  10.73                          0.87         77.37805   \n",
      "4                  10.73                          0.87         77.37805   \n",
      "\n",
      "   Calories from animal protein (FAO (2017))  \\\n",
      "0                                     283.56   \n",
      "1                                     283.56   \n",
      "2                                     283.56   \n",
      "3                                     283.56   \n",
      "4                                     283.56   \n",
      "\n",
      "   Calories from plant protein (FAO (2017))  Calories from fat (FAO (2017))  \\\n",
      "0                                    133.48                         1185.57   \n",
      "1                                    133.48                         1185.57   \n",
      "2                                    133.48                         1185.57   \n",
      "3                                    133.48                         1185.57   \n",
      "4                                    133.48                         1185.57   \n",
      "\n",
      "   Calories from carbohydrates (FAO (2017))  Comm./Dem.  PARTICIPANT  GOLD  \\\n",
      "0                                   1522.39           1            4     0   \n",
      "1                                   1522.39           1           32     0   \n",
      "2                                   1522.39           1           12     0   \n",
      "3                                   1522.39           1           19     0   \n",
      "4                                   1522.39           1           19     0   \n",
      "\n",
      "   SILVER  BRONZE  \n",
      "0       0       0  \n",
      "1       1       0  \n",
      "2       0       0  \n",
      "3       1       0  \n",
      "4       0       0  \n"
     ]
    }
   ],
   "source": [
    "df = pd.read_excel('final-data.xlsx')\n",
    "print(df.head())"
   ]
  },
  {
   "cell_type": "code",
   "execution_count": 380,
   "id": "a4cae199",
   "metadata": {},
   "outputs": [],
   "source": [
    "# df.isna().sum()"
   ]
  },
  {
   "cell_type": "code",
   "execution_count": 383,
   "id": "22e9dcd7",
   "metadata": {},
   "outputs": [],
   "source": [
    "event = 'Weightlifting'\n",
    "df = df.loc[df.Event == event]\n",
    "# print(df.head(5))"
   ]
  },
  {
   "cell_type": "code",
   "execution_count": 384,
   "id": "dc7a7afe",
   "metadata": {},
   "outputs": [],
   "source": [
    "train = df.loc[df.Year <= 2008]\n",
    "test = df.loc[df.Year > 2008]\n"
   ]
  },
  {
   "cell_type": "code",
   "execution_count": 385,
   "id": "530c373e",
   "metadata": {},
   "outputs": [],
   "source": [
    "x_train = train.drop('GOLD',axis=1)\n",
    "x_train = x_train.drop('SILVER',axis=1)\n",
    "x_train = x_train.drop('BRONZE',axis=1)\n",
    "x_train = x_train.drop('Year',axis=1)\n",
    "x_train = x_train.drop('Team',axis=1)\n",
    "x_train = x_train.drop('Event',axis=1)\n",
    "# print(x_train)"
   ]
  },
  {
   "cell_type": "code",
   "execution_count": 386,
   "id": "2783d93a",
   "metadata": {},
   "outputs": [],
   "source": [
    "train_gold = train['GOLD']\n",
    "train_silver = train['SILVER']\n",
    "train_bronze = train['BRONZE']\n",
    "y_train = 5*train_gold + 3*train_silver + train_bronze\n",
    "# print(y_train)"
   ]
  },
  {
   "cell_type": "code",
   "execution_count": 387,
   "id": "789efdb8",
   "metadata": {},
   "outputs": [],
   "source": [
    "x_test = test.drop('GOLD',axis=1)\n",
    "x_test = x_test.drop('SILVER',axis=1)\n",
    "x_test = x_test.drop('BRONZE',axis=1)\n",
    "x_test = x_test.drop('Year',axis=1)\n",
    "x_test = x_test.drop('Team',axis=1)\n",
    "x_test = x_test.drop('Event',axis=1)\n",
    "# print(x_test)"
   ]
  },
  {
   "cell_type": "code",
   "execution_count": 388,
   "id": "2bd7b0df",
   "metadata": {},
   "outputs": [],
   "source": [
    "test_gold = test['GOLD']\n",
    "test_silver = test['SILVER']\n",
    "test_bronze = test['BRONZE']\n",
    "y_test = 5*test_gold + 3*test_silver + test_bronze\n",
    "# print(y_test)"
   ]
  },
  {
   "cell_type": "code",
   "execution_count": 389,
   "id": "4d0e805c",
   "metadata": {},
   "outputs": [
    {
     "name": "stdout",
     "output_type": "stream",
     "text": [
      "[0 0 0 0 0 0 0 0 0]\n",
      "[[6.80120000e+04 2.29039480e+07 0.00000000e+00 5.22000000e+00\n",
      "  9.40000000e-01 8.20463400e+01 2.81160000e+02 1.36880000e+02\n",
      "  1.37133000e+03 1.46763000e+03 1.00000000e+00 2.00000000e+00]\n",
      " [5.26690000e+04 3.49220300e+07 0.00000000e+00 7.40000000e+00\n",
      "  9.10000000e-01 8.16487800e+01 2.21640000e+02 1.96760000e+02\n",
      "  1.34109000e+03 1.72551000e+03 1.00000000e+00 3.00000000e+00]\n",
      " [6.31700000e+03 1.38420640e+09 0.00000000e+00 1.02800000e+01\n",
      "  7.20000000e-01 7.50130000e+01 1.56840000e+02 1.96760000e+02\n",
      "  8.59770000e+02 1.84871000e+03 0.00000000e+00 5.00000000e+00]\n",
      " [4.08720000e+04 6.35642210e+07 0.00000000e+00 9.40000000e+00\n",
      "  8.90000000e-01 8.19682900e+01 2.79120000e+02 1.65880000e+02\n",
      "  1.41948000e+03 1.59552000e+03 1.00000000e+00 4.00000000e+00]\n",
      " [1.44400000e+03 1.26578025e+09 0.00000000e+00 5.66000000e+00\n",
      "  6.00000000e-01 6.75450000e+01 4.88000000e+01 1.87920000e+02\n",
      "  4.73670000e+02 1.72461000e+03 1.00000000e+00 2.00000000e+00]\n",
      " [3.50520000e+04 5.98794710e+07 0.00000000e+00 1.06600000e+01\n",
      "  8.80000000e-01 8.22390200e+01 2.38520000e+02 1.97880000e+02\n",
      "  1.42110000e+03 1.71750000e+03 1.00000000e+00 1.00000000e+00]\n",
      " [4.86030000e+04 1.28423571e+08 0.00000000e+00 4.56000000e+00\n",
      "  9.00000000e-01 8.30961000e+01 1.97120000e+02 1.57160000e+02\n",
      "  7.85070000e+02 1.60065000e+03 1.00000000e+00 5.00000000e+00]\n",
      " [4.24490000e+04 6.45253120e+07 0.00000000e+00 8.00000000e+00\n",
      "  9.00000000e-01 8.09048800e+01 2.35240000e+02 1.78360000e+02\n",
      "  1.24614000e+03 1.74326000e+03 1.00000000e+00 5.00000000e+00]\n",
      " [5.16030000e+04 3.14043885e+08 0.00000000e+00 7.90000000e+00\n",
      "  9.20000000e-01 7.87414600e+01 2.79040000e+02 1.59680000e+02\n",
      "  1.46007000e+03 1.78821000e+03 1.00000000e+00 3.00000000e+00]]\n"
     ]
    }
   ],
   "source": [
    "X_train = np.array(x_train)\n",
    "X_test = np.array(x_test)\n",
    "Y_train = np.array(y_train)\n",
    "Y_test = np.array(y_test)\n",
    "print(Y_test)\n",
    "print(X_test)"
   ]
  },
  {
   "cell_type": "code",
   "execution_count": 390,
   "id": "c4ff2dba",
   "metadata": {},
   "outputs": [],
   "source": [
    "# from sklearn.linear_model import LogisticRegression\n",
    "# model = LogisticRegression(multi_class='multinomial',solver='lbfgs',max_iter=396)"
   ]
  },
  {
   "cell_type": "code",
   "execution_count": 391,
   "id": "9473e4df",
   "metadata": {},
   "outputs": [],
   "source": [
    "from sklearn.svm import LinearSVC\n",
    "from sklearn.pipeline import make_pipeline\n",
    "from sklearn.preprocessing import StandardScaler\n",
    "\n",
    "model = make_pipeline(StandardScaler(),\n",
    "                    LinearSVC())"
   ]
  },
  {
   "cell_type": "code",
   "execution_count": 392,
   "id": "5e66ed47",
   "metadata": {},
   "outputs": [
    {
     "data": {
      "text/plain": [
       "Pipeline(steps=[('standardscaler', StandardScaler()),\n",
       "                ('linearsvc', LinearSVC())])"
      ]
     },
     "execution_count": 392,
     "metadata": {},
     "output_type": "execute_result"
    }
   ],
   "source": [
    "model.fit(X_train,Y_train)"
   ]
  },
  {
   "cell_type": "code",
   "execution_count": 393,
   "id": "e6f8c314",
   "metadata": {},
   "outputs": [
    {
     "name": "stdout",
     "output_type": "stream",
     "text": [
      "[0 0 3 0 0 0 0 0 0]\n",
      "[0 0 0 0 0 0 0 0 0]\n"
     ]
    }
   ],
   "source": [
    "print(model.predict(X_test))\n",
    "print(Y_test)"
   ]
  },
  {
   "cell_type": "code",
   "execution_count": 394,
   "id": "0d77c12e",
   "metadata": {},
   "outputs": [
    {
     "data": {
      "text/plain": [
       "0.8888888888888888"
      ]
     },
     "execution_count": 394,
     "metadata": {},
     "output_type": "execute_result"
    }
   ],
   "source": [
    "model.score(X_test,Y_test)"
   ]
  },
  {
   "cell_type": "code",
   "execution_count": 395,
   "id": "77348d5c",
   "metadata": {},
   "outputs": [],
   "source": [
    "pickle.dump(model, open(event + '.sav', 'wb'))"
   ]
  },
  {
   "cell_type": "code",
   "execution_count": null,
   "id": "1f33391e",
   "metadata": {},
   "outputs": [],
   "source": []
  }
 ],
 "metadata": {
  "kernelspec": {
   "display_name": "Python 3",
   "language": "python",
   "name": "python3"
  },
  "language_info": {
   "codemirror_mode": {
    "name": "ipython",
    "version": 3
   },
   "file_extension": ".py",
   "mimetype": "text/x-python",
   "name": "python",
   "nbconvert_exporter": "python",
   "pygments_lexer": "ipython3",
   "version": "3.8.8"
  }
 },
 "nbformat": 4,
 "nbformat_minor": 5
}
